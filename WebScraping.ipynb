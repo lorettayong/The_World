{
 "cells": [
  {
   "cell_type": "markdown",
   "metadata": {},
   "source": [
    "# Web Scraping\n",
    "### Referenced from: https://www.kaggle.com/tanuprabhu/population-by-country-2020"
   ]
  },
  {
   "cell_type": "markdown",
   "metadata": {},
   "source": [
    "## Step 1: To import the Python libraries needed to conduct web scraping\n",
    "### Note: BeautifulSoup is a Python library for the parsing of structured data"
   ]
  },
  {
   "cell_type": "code",
   "execution_count": 1,
   "metadata": {},
   "outputs": [],
   "source": [
    "import requests\n",
    "from bs4 import BeautifulSoup\n",
    "import pandas as pd"
   ]
  },
  {
   "cell_type": "markdown",
   "metadata": {},
   "source": [
    "## Step 2: To create a BeautifulSoup object and access the URL link targeted "
   ]
  },
  {
   "cell_type": "code",
   "execution_count": 2,
   "metadata": {},
   "outputs": [],
   "source": [
    "url = \"https://www.worldometers.info/world-population/population-by-country/\"\n",
    "request = requests.get(url)"
   ]
  },
  {
   "cell_type": "code",
   "execution_count": 10,
   "metadata": {},
   "outputs": [],
   "source": [
    "# Note: The following code was also executed to identify the HTML content from this particular page\n",
    "# Please uncomment to see the print result - note that the results are exorbitant, understandably...\n",
    "# print(request.text)"
   ]
  },
  {
   "cell_type": "code",
   "execution_count": 3,
   "metadata": {},
   "outputs": [],
   "source": [
    "soup = BeautifulSoup(request.content)"
   ]
  },
  {
   "cell_type": "markdown",
   "metadata": {},
   "source": [
    "## Step 3: To find all elements within the table"
   ]
  },
  {
   "cell_type": "code",
   "execution_count": 4,
   "metadata": {},
   "outputs": [],
   "source": [
    "countries = soup.find_all(\"table\")[0]\n",
    "population_data = pd.read_html(str(countries))[0]"
   ]
  },
  {
   "cell_type": "code",
   "execution_count": 5,
   "metadata": {},
   "outputs": [],
   "source": [
    "def function(a, b, c, d, e, f, g, h, i, j, k):\n",
    "    \n",
    "    data = pd.DataFrame(\n",
    "    {'a' : population_data[a],\n",
    "    'b' : population_data[b],\n",
    "    'c' : population_data[c],\n",
    "    'd' : population_data[d],\n",
    "    'e' : population_data[e],\n",
    "    'f' : population_data[f],\n",
    "    'g' : population_data[g],\n",
    "    'h' : population_data[h],\n",
    "    'i' : population_data[i],\n",
    "    'j' : population_data[j],\n",
    "    'k' : population_data[k]})\n",
    "    \n",
    "    return data"
   ]
  },
  {
   "cell_type": "markdown",
   "metadata": {},
   "source": [
    "## Step 4: To assign column names that are more SQL-friendly"
   ]
  },
  {
   "cell_type": "code",
   "execution_count": 6,
   "metadata": {},
   "outputs": [],
   "source": [
    "population_data = function('Country (or dependency)', 'Population (2020)', 'Yearly Change',\n",
    "                           'Net Change', 'Density (P/Km²)', 'Land Area (Km²)',\n",
    "                           'Migrants (net)', 'Fert. Rate', 'Med. Age',\n",
    "                           'Urban Pop %', 'World Share')\n",
    "population_data.columns = ['Country', 'Population', 'Yearly_Change',\n",
    "                           'Net_Change', 'Density', 'Land_Area',\n",
    "                           'Net_Migrants', 'Fertility_Rate', 'Median_Age',\n",
    "                           'Urban_Population', 'World_Share']"
   ]
  },
  {
   "cell_type": "markdown",
   "metadata": {},
   "source": [
    "## Step 5: To export the scraped data to CSV file format"
   ]
  },
  {
   "cell_type": "code",
   "execution_count": 7,
   "metadata": {},
   "outputs": [],
   "source": [
    "export_data = population_data.to_csv('WorldPopulation.csv', index = None, header = True)"
   ]
  }
 ],
 "metadata": {
  "kernelspec": {
   "display_name": "Python 3",
   "language": "python",
   "name": "python3"
  },
  "language_info": {
   "codemirror_mode": {
    "name": "ipython",
    "version": 3
   },
   "file_extension": ".py",
   "mimetype": "text/x-python",
   "name": "python",
   "nbconvert_exporter": "python",
   "pygments_lexer": "ipython3",
   "version": "3.8.5"
  }
 },
 "nbformat": 4,
 "nbformat_minor": 4
}
